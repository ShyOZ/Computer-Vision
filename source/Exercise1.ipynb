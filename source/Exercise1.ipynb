{
 "cells": [
  {
   "cell_type": "markdown",
   "metadata": {
    "id": "Go9mVLC41VhO"
   },
   "source": [
    "Shy Ohev Zion - 318783479\n",
    "\n",
    "Aviad Hedvat - "
   ]
  },
  {
   "cell_type": "markdown",
   "metadata": {
    "id": "t9bDi0Ju1l3z"
   },
   "source": [
    "#  Dataset Preprocessing\n",
    "\n",
    "---\n",
    "\n",
    "\n",
    "*   A good dataset is a key for successful model training.\n",
    "\n",
    "*   This assignment guides you how to create two labeled datasets, which could later be used for\n",
    "supervised learning.\n",
    "\n",
    "---\n",
    "\n",
    "## Overview\n",
    "\n",
    "Image augmentations are used to increase the variability and robustness of a dataset\n",
    "\n",
    "## Goals - Create a larger dataset from a smaller one\n",
    "\n",
    "\n",
    "\n",
    "---\n",
    "\n",
    "\n",
    "### Goals\n",
    "1. \n",
    "\n",
    "  *   The original MNIST dataset includes images of single digits, in ten classes.\n",
    "  *   Your goal is to create a new three-digit image dataset, with 101 classes, based on the original MNIST dataset.\n",
    "2. \n",
    "\n",
    "  *   Create a dataset of shape images with three classes: (Triangle, Rectangle and Circle/Elipse)\n",
    "\n",
    "\n",
    "---\n",
    "\n",
    "### Tasks\n",
    "\n",
    "1 - MNIST<br>\n",
    "*  Download the mnist data usin the code snippet below <br> \n",
    "<code> import torchvision <br>\n",
    "mnist_data = torchvision.datasets.MNIST(root='', download=True) <br>\n",
    "this downloads the data to root ('') folder. Change the root to a convenient location. </code>\n",
    "*  Show at least 5 samples of each class (0-9). Always add proper titles and choose the correct color\n",
    "map\n",
    "* Your new dataset should include the three-digits numbers: [000, 001, ..., 055, ..., 099, 100],\n",
    "forming 101 classes. <br>\n",
    "* Each class should have at least 4000 different samples. <br>\n",
    "* Use the augmentations you created on lab 3 on your new dataset and show some results and\n",
    "explain which augmentations are applicable to this specific dataset, which are not and why. <br>\n",
    "* Each student should add about 10 new augmentations (you may use OpenCV). The total number\n",
    "of augmentations will be 15. <br>\n",
    "* Display typical results of your dataset, demonstrating the variability of the new dataset. <br>\n",
    "* Write a detailed summary of your work.\n",
    "\n",
    "2 - Shapes Dataset\n",
    "* Shapes definition and functions requirements:\n",
    "  * Minimal and maximal area: 100-600 pixels, the shape could not be cropped by image\n",
    "boundaries.\n",
    "  * Each shape will have random size, location, orientation and color.\n",
    "  * Each image will include one of the following shapes:\n",
    "    * Triangle\n",
    "    * Rectangle\n",
    "    * Circle/Elipse\n",
    "  * Each image should be of dimensions 50x50x3.\n",
    "  * Create at least 300 different samples of each class i.e.(circles with different radius, etc..)\n",
    "  * Show the images you created without augmentations and with the augmentations from lab 3\n",
    "  * Write a class, which loads the data you created, labels the data, i.e (triangle will be class 0,\n",
    "rectangle 1, etc.. an Integer) and splits it to train and test sets. 90% of the data should be train\n",
    "images and 10% test images. The class call should be as follows: \n",
    "\n",
    "\n",
    "3 - Summary\n",
    "  * Write a short summary of everything you've done in this work\n"
   ]
  },
  {
   "cell_type": "code",
   "execution_count": 38,
   "metadata": {
    "id": "LEPF7eVn2w_g"
   },
   "outputs": [],
   "source": [
    "import torchvision\n",
    "import numpy as np\n",
    "import matplotlib.pyplot as plt\n",
    "from itertools import product"
   ]
  },
  {
   "cell_type": "code",
   "execution_count": 2,
   "metadata": {
    "id": "YiFRhtvr6C_0"
   },
   "outputs": [],
   "source": [
    "mnist_data = torchvision.datasets.MNIST(root=\"../data\", download=True, train=True);"
   ]
  },
  {
   "cell_type": "code",
   "execution_count": 44,
   "metadata": {
    "colab": {
     "base_uri": "https://localhost:8080/"
    },
    "id": "kWIG_HBC6JGU",
    "outputId": "436d15c3-fbf2-40b7-b44f-9e8642f18d24"
   },
   "outputs": [
    {
     "name": "stdout",
     "output_type": "stream",
     "text": [
      "(60000, 28, 28)\n",
      "There are 10 classes which are ['0 - zero', '1 - one', '2 - two', '3 - three', '4 - four', '5 - five', '6 - six', '7 - seven', '8 - eight', '9 - nine']\n"
     ]
    }
   ],
   "source": [
    "# Acessing the data within\n",
    "mnist_images = mnist_data.data.numpy()\n",
    "mnist_labels = mnist_data.targets.numpy()\n",
    "print(mnist_images.shape)  # 60K Images with Dimension 28X28\n",
    "print(f\"There are {len(mnist_data.classes)} classes which are {mnist_data.classes}\")"
   ]
  },
  {
   "cell_type": "code",
   "execution_count": 45,
   "metadata": {
    "colab": {
     "base_uri": "https://localhost:8080/",
     "height": 298
    },
    "id": "pJnxZlq574DR",
    "outputId": "a5109f8f-52b7-48d9-da10-2ec8722faac1"
   },
   "outputs": [
    {
     "data": {
      "text/plain": [
       "Text(0.5, 1.0, 'Label = 9')"
      ]
     },
     "execution_count": 45,
     "metadata": {},
     "output_type": "execute_result"
    },
    {
     "data": {
      "image/png": "[encoded data removed]",
      "text/plain": [
       "<Figure size 576x288 with 1 Axes>"
      ]
     },
     "metadata": {
      "needs_background": "light"
     },
     "output_type": "display_data"
    }
   ],
   "source": [
    "# Plot a random num\n",
    "plt.rcParams[\"figure.figsize\"] = (8, 4)\n",
    "rand_indx = np.random.randint(len(mnist_images))\n",
    "plt.imshow(mnist_images[rand_indx], cmap=\"gray\")\n",
    "plt.title(f\"Label = {mnist_labels[rand_indx]}\")"
   ]
  },
  {
   "cell_type": "code",
   "execution_count": 57,
   "metadata": {
    "id": "ymT9Xo41769Y"
   },
   "outputs": [],
   "source": [
    "class_indices = {i: [] for i in range(len(mnist_data.classes))}\n",
    "\n",
    "for index, label in enumerate(mnist_labels):\n",
    "    class_indices[label].append(index)\n",
    "\n",
    "l = list(map(lambda key: len(class_indices[key]), class_indices.keys()))"
   ]
  },
  {
   "cell_type": "code",
   "execution_count": 79,
   "metadata": {},
   "outputs": [],
   "source": [
    "# str_labels = list(map(lambda label: f\"{label[0]}{label[1]}{label[2]}\", new_labels))\n",
    "# print(str_labels)\n",
    "\n",
    "triple_digit_dataset = list()  # full of {\"image\": [], \"label\": \"...\"}\n",
    "\n",
    "rng = np.random.default_rng(2)\n",
    "\n",
    "for i in range(101):\n",
    "    text_label = f\"{i:03d}\"\n",
    "    for i in range(5000):\n",
    "        first = rng.choice(class_indices[int(text_label[0])])\n",
    "        second = rng.choice(class_indices[int(text_label[1])])\n",
    "        third = rng.choice(class_indices[int(text_label[2])])\n",
    "        new_image = np.concatenate(\n",
    "            (mnist_images[first], mnist_images[second], mnist_images[third]), axis=1,\n",
    "        )\n",
    "        triple_digit_dataset.append({\"image\": new_image, \"label\": text_label})\n",
    "           \n",
    "# for d in triple_digit_dataset:\n",
    "#     plt.imshow(d[\"image\"], cmap=\"gray\")\n",
    "#     plt.title(d[\"label\"])\n",
    "#     plt.show()"
   ]
  },
  {
   "cell_type": "code",
   "execution_count": 76,
   "metadata": {},
   "outputs": [
    {
     "name": "stdout",
     "output_type": "stream",
     "text": [
      "002\n"
     ]
    }
   ],
   "source": [
    "j = 2\n",
    "print(f\"{j:03d}\")"
   ]
  },
  {
   "cell_type": "code",
   "execution_count": 67,
   "metadata": {},
   "outputs": [
    {
     "name": "stdout",
     "output_type": "stream",
     "text": [
      "[[0. 0. 0. 0. 0.]\n",
      " [0. 0. 0. 0. 0.]\n",
      " [0. 0. 0. 0. 0.]\n",
      " [0. 0. 0. 0. 0.]]\n",
      "[[1. 1.]\n",
      " [1. 1.]\n",
      " [1. 1.]\n",
      " [1. 1.]]\n"
     ]
    },
    {
     "data": {
      "text/plain": [
       "<matplotlib.image.AxesImage at 0x20b1f08b100>"
      ]
     },
     "execution_count": 67,
     "metadata": {},
     "output_type": "execute_result"
    },
    {
     "data": {
      "image/png": "[encoded data removed]",
      "text/plain": [
       "<Figure size 576x288 with 1 Axes>"
      ]
     },
     "metadata": {
      "needs_background": "light"
     },
     "output_type": "display_data"
    }
   ],
   "source": [
    "a = np.zeros((4,5))\n",
    "print(a)\n",
    "b = np.ones((4, 2))\n",
    "print(b)\n",
    "plt.imshow(np.concatenate((a, b), axis=1))"
   ]
  }
 ],
 "metadata": {
  "colab": {
   "collapsed_sections": [],
   "name": "ex1.ipynb",
   "provenance": []
  },
  "kernelspec": {
   "display_name": "Python 3 (ipykernel)",
   "language": "python",
   "name": "python3"
  },
  "language_info": {
   "codemirror_mode": {
    "name": "ipython",
    "version": 3
   },
   "file_extension": ".py",
   "mimetype": "text/x-python",
   "name": "python",
   "nbconvert_exporter": "python",
   "pygments_lexer": "ipython3",
   "version": "3.9.7"
  },
  "toc-autonumbering": false,
  "toc-showcode": false,
  "toc-showmarkdowntxt": false,
  "toc-showtags": false
 },
 "nbformat": 4,
 "nbformat_minor": 4
}
