{
 "cells": [
  {
   "cell_type": "markdown",
   "id": "bbec4edf-af2f-4a7b-867d-720c2e427ffd",
   "metadata": {
    "tags": []
   },
   "source": [
    "# Computer Vision - Lab 4\n",
    "- **Name:** Shy Ohev Zion\n",
    "- **ID:** 318783479"
   ]
  },
  {
   "cell_type": "markdown",
   "id": "604253fa-9bc0-4520-8eb5-477a292f3d93",
   "metadata": {
    "tags": []
   },
   "source": [
    "## Imports, Configurations and Function Definitions (relevant for all sections)"
   ]
  },
  {
   "cell_type": "code",
   "execution_count": 1,
   "id": "9aa4d540-2216-4bee-babe-8b37252dcc70",
   "metadata": {},
   "outputs": [],
   "source": [
    "import os\n",
    "import sys\n",
    "import cv2 as cv\n",
    "import numpy as np\n",
    "from PIL import Image\n",
    "from matplotlib import pyplot as plt\n",
    "\n",
    "data_dir_name = 'data'"
   ]
  },
  {
   "cell_type": "markdown",
   "id": "179e4579-e20e-4bb2-ba8f-7cbad1905937",
   "metadata": {
    "tags": []
   },
   "source": [
    "## Lab Work"
   ]
  }
 ],
 "metadata": {
  "kernelspec": {
   "display_name": "Python 3 (ipykernel)",
   "language": "python",
   "name": "python3"
  },
  "language_info": {
   "codemirror_mode": {
    "name": "ipython",
    "version": 3
   },
   "file_extension": ".py",
   "mimetype": "text/x-python",
   "name": "python",
   "nbconvert_exporter": "python",
   "pygments_lexer": "ipython3",
   "version": "3.9.7"
  }
 },
 "nbformat": 4,
 "nbformat_minor": 5
}
